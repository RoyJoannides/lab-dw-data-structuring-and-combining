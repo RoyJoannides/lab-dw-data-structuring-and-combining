{
 "cells": [
  {
   "cell_type": "markdown",
   "id": "25d7736c-ba17-4aff-b6bb-66eba20fbf4e",
   "metadata": {
    "id": "25d7736c-ba17-4aff-b6bb-66eba20fbf4e"
   },
   "source": [
    "# Lab | Data Structuring and Combining Data"
   ]
  },
  {
   "cell_type": "markdown",
   "id": "a2cdfc70-44c8-478c-81e7-2bc43fdf4986",
   "metadata": {
    "id": "a2cdfc70-44c8-478c-81e7-2bc43fdf4986"
   },
   "source": [
    "## Challenge 1: Combining & Cleaning Data\n",
    "\n",
    "In this challenge, we will be working with the customer data from an insurance company, as we did in the two previous labs. The data can be found here:\n",
    "- https://raw.githubusercontent.com/data-bootcamp-v4/data/main/file1.csv\n",
    "\n",
    "But this time, we got new data, which can be found in the following 2 CSV files located at the links below.\n",
    "\n",
    "- https://raw.githubusercontent.com/data-bootcamp-v4/data/main/file2.csv\n",
    "- https://raw.githubusercontent.com/data-bootcamp-v4/data/main/file3.csv\n",
    "\n",
    "Note that you'll need to clean and format the new data.\n",
    "\n",
    "Observation:\n",
    "- One option is to first combine the three datasets and then apply the cleaning function to the new combined dataset\n",
    "- Another option would be to read the clean file you saved in the previous lab, and just clean the two new files and concatenate the three clean datasets"
   ]
  },
  {
   "cell_type": "code",
   "execution_count": null,
   "id": "0d073a1e",
   "metadata": {},
   "outputs": [],
   "source": [
    "import pandas as pd"
   ]
  },
  {
   "cell_type": "code",
   "execution_count": null,
   "id": "80c843bb",
   "metadata": {},
   "outputs": [],
   "source": [
    "# the datasets\n",
    "url1 = \"https://raw.githubusercontent.com/data-bootcamp-v4/data/main/file1.csv\"\n",
    "url2 = \"https://raw.githubusercontent.com/data-bootcamp-v4/data/main/file2.csv\"\n",
    "url3 = \"https://raw.githubusercontent.com/data-bootcamp-v4/data/main/file3.csv\"\n",
    "\n",
    "df1 = pd.read_csv(url1)\n",
    "df2 = pd.read_csv(url2)\n",
    "df3 = pd.read_csv(url3)"
   ]
  },
  {
   "cell_type": "code",
   "execution_count": null,
   "id": "eaf02828",
   "metadata": {},
   "outputs": [],
   "source": [
    "# Concatenate the three datasets into a single DataFrame\n",
    "concatenated_data = pd.concat([df1, df2, df3], ignore_index=True)\n"
   ]
  },
  {
   "cell_type": "code",
   "execution_count": null,
   "id": "76d0f5bf",
   "metadata": {},
   "outputs": [],
   "source": [
    "# Display the first few rows of the concatenated DataFrame\n",
    "concatenated_data.head()\n"
   ]
  },
  {
   "cell_type": "code",
   "execution_count": null,
   "id": "8a08081f",
   "metadata": {},
   "outputs": [],
   "source": [
    "# My cleaning function from exercise 1\n",
    "import pandas as pd\n",
    "\n",
    "def clean_dataset(df):\n",
    "    # Convert column names to lowercase and replace spaces with underscores\n",
    "    df.columns = df.columns.str.lower().str.replace(' ', '_')\n",
    "    # Rename the second column to 'state'\n",
    "    df.rename(columns={df.columns[1]: 'state'}, inplace=True)\n",
    "    # Convert gender values to uppercase and standardize\n",
    "    df.gender = df['gender'].str.lower().replace(['f', 'femal', 'female'], 'F').replace(['m', 'male'], 'M')\n",
    "    df.education = df['education'].replace('Bachelors', 'Bachelor')\n",
    "\n",
    "    # Handle customer_lifetime_value column\n",
    "    if 'customer_lifetime_value' in df.columns and df['customer_lifetime_value'].dtype == 'O':\n",
    "        df['customer_lifetime_value'] = pd.to_numeric(df['customer_lifetime_value'].str.replace('%', ''), errors='coerce')\n",
    "\n",
    "    vehicle_mapping = {'Sports Car': 'Luxury', 'Luxury SUV': 'Luxury', 'Luxury Car': 'Luxury'}\n",
    "    df.vehicle_class = df['vehicle_class'].replace(vehicle_mapping) \n",
    "    df.number_of_open_complaints = pd.to_numeric(df['number_of_open_complaints'], errors='coerce').astype('Int64')\n",
    "    \n",
    "    # Fill missing values in numeric columns with the mean\n",
    "    numeric_columns = ['customer_lifetime_value', 'income', 'monthly_premium_auto', 'number_of_open_complaints', 'total_claim_amount']\n",
    "    for col in numeric_columns:\n",
    "        if col == 'number_of_open_complaints':\n",
    "            mean_value = round(df[col].mean())\n",
    "            df[col] = df[col].fillna(mean_value)\n",
    "        else:\n",
    "            df[col] = df[col].fillna(round(df[col].mean()))\n",
    "    \n",
    "    # Fill missing values in categorical columns with the mode\n",
    "    categorical_columns = ['customer', 'state', 'gender', 'education', 'policy_type', 'vehicle_class']\n",
    "    for col in categorical_columns:\n",
    "        df[col] = df[col].fillna(df[col].mode()[0])\n",
    "    \n",
    "    # Display duplicates after handling\n",
    "    duplicates_after_handling = df.duplicated()\n",
    "    print(\"\\nDuplicates after handling:\")\n",
    "    print(duplicates_after_handling) \n"
   ]
  },
  {
   "cell_type": "code",
   "execution_count": null,
   "id": "b2568c76",
   "metadata": {},
   "outputs": [],
   "source": [
    "cleaned_concatenated_data = clean_concatenated_table(concatenated_data)"
   ]
  },
  {
   "cell_type": "code",
   "execution_count": null,
   "id": "bd1351f1",
   "metadata": {},
   "outputs": [],
   "source": [
    "## When i run the function in this sheet, it does not work!!!"
   ]
  },
  {
   "cell_type": "markdown",
   "id": "31b8a9e7-7db9-4604-991b-ef6771603e57",
   "metadata": {
    "id": "31b8a9e7-7db9-4604-991b-ef6771603e57"
   },
   "source": [
    "# Challenge 2: Structuring Data"
   ]
  },
  {
   "cell_type": "markdown",
   "id": "a877fd6d-7a0c-46d2-9657-f25036e4ca4b",
   "metadata": {
    "id": "a877fd6d-7a0c-46d2-9657-f25036e4ca4b"
   },
   "source": [
    "In this challenge, we will continue to work with customer data from an insurance company, but we will use a dataset with more columns, called marketing_customer_analysis.csv, which can be found at the following link:\n",
    "\n",
    "https://raw.githubusercontent.com/data-bootcamp-v4/data/main/marketing_customer_analysis_clean.csv\n",
    "\n",
    "This dataset contains information such as customer demographics, policy details, vehicle information, and the customer's response to the last marketing campaign. Our goal is to explore and analyze this data by performing data cleaning, formatting, and structuring."
   ]
  },
  {
   "cell_type": "code",
   "execution_count": 2,
   "id": "aa10d9b0-1c27-4d3f-a8e4-db6ab73bfd26",
   "metadata": {
    "id": "aa10d9b0-1c27-4d3f-a8e4-db6ab73bfd26"
   },
   "outputs": [
    {
     "name": "stdout",
     "output_type": "stream",
     "text": [
      "   unnamed:_0 customer       state  customer_lifetime_value response  \\\n",
      "0           0  DK49336     Arizona              4809.216960       No   \n",
      "1           1  KX64629  California              2228.525238       No   \n",
      "2           2  LZ68649  Washington             14947.917300       No   \n",
      "3           3  XL78013      Oregon             22332.439460      Yes   \n",
      "4           4  QA50777      Oregon              9025.067525       No   \n",
      "\n",
      "   coverage education effective_to_date employmentstatus gender  ...  \\\n",
      "0     Basic   College        2011-02-18         Employed      M  ...   \n",
      "1     Basic   College        2011-01-18       Unemployed      F  ...   \n",
      "2     Basic  Bachelor        2011-02-10         Employed      M  ...   \n",
      "3  Extended   College        2011-01-11         Employed      M  ...   \n",
      "4   Premium  Bachelor        2011-01-17    Medical Leave      F  ...   \n",
      "\n",
      "   number_of_policies     policy_type        policy  renew_offer_type  \\\n",
      "0                   9  Corporate Auto  Corporate L3            Offer3   \n",
      "1                   1   Personal Auto   Personal L3            Offer4   \n",
      "2                   2   Personal Auto   Personal L3            Offer3   \n",
      "3                   2  Corporate Auto  Corporate L3            Offer2   \n",
      "4                   7   Personal Auto   Personal L2            Offer1   \n",
      "\n",
      "   sales_channel  total_claim_amount  vehicle_class  vehicle_size  \\\n",
      "0          Agent          292.800000  Four-Door Car       Medsize   \n",
      "1    Call Center          744.924331  Four-Door Car       Medsize   \n",
      "2    Call Center          480.000000            SUV       Medsize   \n",
      "3         Branch          484.013411  Four-Door Car       Medsize   \n",
      "4         Branch          707.925645  Four-Door Car       Medsize   \n",
      "\n",
      "  vehicle_type month  \n",
      "0            A     2  \n",
      "1            A     1  \n",
      "2            A     2  \n",
      "3            A     1  \n",
      "4            A     1  \n",
      "\n",
      "[5 rows x 27 columns]\n"
     ]
    }
   ],
   "source": [
    "# Your code goes here\n",
    "import pandas as pd\n",
    "\n",
    "# Loadiing the dataset\n",
    "url = \"https://raw.githubusercontent.com/data-bootcamp-v4/data/main/marketing_customer_analysis_clean.csv\"\n",
    "data = pd.read_csv(url)\n",
    "\n",
    "print(data.head())\n"
   ]
  },
  {
   "cell_type": "code",
   "execution_count": 3,
   "id": "174e9183",
   "metadata": {},
   "outputs": [
    {
     "name": "stdout",
     "output_type": "stream",
     "text": [
      "Pivot Table for Total Revenue by Sales Channel:\n",
      "               total_claim_amount\n",
      "sales_channel                    \n",
      "Agent                  1810226.82\n",
      "Branch                 1301204.00\n",
      "Call Center             926600.82\n",
      "Web                     706600.04\n"
     ]
    }
   ],
   "source": [
    "# Creating a pivot table for total revenue by sales channel\n",
    "pivot_table_sales_channel = pd.pivot_table(data, values='total_claim_amount', index='sales_channel', aggfunc='sum').round(2)\n",
    "\n",
    "# Displaying the pivot table\n",
    "print(\"Pivot Table for Total Revenue by Sales Channel:\")\n",
    "print(pivot_table_sales_channel)\n"
   ]
  },
  {
   "cell_type": "code",
   "execution_count": 4,
   "id": "11eb2e30",
   "metadata": {},
   "outputs": [
    {
     "name": "stdout",
     "output_type": "stream",
     "text": [
      "\n",
      "Pivot Table for Average Customer Lifetime Value by Gender and Education:\n",
      "                             customer_lifetime_value\n",
      "gender education                                    \n",
      "F      Bachelor                              7874.27\n",
      "       College                               7748.82\n",
      "       Doctor                                7328.51\n",
      "       High School or Below                  8675.22\n",
      "       Master                                8157.05\n",
      "M      Bachelor                              7703.60\n",
      "       College                               8052.46\n",
      "       Doctor                                7415.33\n",
      "       High School or Below                  8149.69\n",
      "       Master                                8168.83\n"
     ]
    }
   ],
   "source": [
    "# Create a pivot table for average customer lifetime value by gender and education level\n",
    "pivot_table_clv = pd.pivot_table(data, values='customer_lifetime_value', index=['gender', 'education'], aggfunc='mean').round(2)\n",
    "\n",
    "# Display the pivot table\n",
    "print(\"\\nPivot Table for Average Customer Lifetime Value by Gender and Education:\")\n",
    "print(pivot_table_clv)\n"
   ]
  },
  {
   "cell_type": "markdown",
   "id": "df35fd0d-513e-4e77-867e-429da10a9cc7",
   "metadata": {
    "id": "df35fd0d-513e-4e77-867e-429da10a9cc7"
   },
   "source": [
    "1. You work at the marketing department and you want to know which sales channel brought the most sales in terms of total revenue. Using pivot, create a summary table showing the total revenue for each sales channel (branch, call center, web, and mail).\n",
    "Round the total revenue to 2 decimal points.  Analyze the resulting table to draw insights."
   ]
  },
  {
   "cell_type": "markdown",
   "id": "640993b2-a291-436c-a34d-a551144f8196",
   "metadata": {
    "id": "640993b2-a291-436c-a34d-a551144f8196"
   },
   "source": [
    "2. Create a pivot table that shows the average customer lifetime value per gender and education level. Analyze the resulting table to draw insights."
   ]
  },
  {
   "cell_type": "markdown",
   "id": "32c7f2e5-3d90-43e5-be33-9781b6069198",
   "metadata": {
    "id": "32c7f2e5-3d90-43e5-be33-9781b6069198"
   },
   "source": [
    "## Bonus\n",
    "\n",
    "You work at the customer service department and you want to know which months had the highest number of complaints by policy type category. Create a summary table showing the number of complaints by policy type and month.\n",
    "Show it in a long format table."
   ]
  },
  {
   "cell_type": "markdown",
   "id": "e3d09a8f-953c-448a-a5f8-2e5a8cca7291",
   "metadata": {
    "id": "e3d09a8f-953c-448a-a5f8-2e5a8cca7291"
   },
   "source": [
    "*In data analysis, a long format table is a way of structuring data in which each observation or measurement is stored in a separate row of the table. The key characteristic of a long format table is that each column represents a single variable, and each row represents a single observation of that variable.*\n",
    "\n",
    "*More information about long and wide format tables here: https://www.statology.org/long-vs-wide-data/*"
   ]
  },
  {
   "cell_type": "code",
   "execution_count": null,
   "id": "3a069e0b-b400-470e-904d-d17582191be4",
   "metadata": {
    "id": "3a069e0b-b400-470e-904d-d17582191be4"
   },
   "outputs": [],
   "source": [
    "# Your code goes here"
   ]
  }
 ],
 "metadata": {
  "colab": {
   "provenance": []
  },
  "kernelspec": {
   "display_name": "Python 3 (ipykernel)",
   "language": "python",
   "name": "python3"
  },
  "language_info": {
   "codemirror_mode": {
    "name": "ipython",
    "version": 3
   },
   "file_extension": ".py",
   "mimetype": "text/x-python",
   "name": "python",
   "nbconvert_exporter": "python",
   "pygments_lexer": "ipython3",
   "version": "3.11.5"
  }
 },
 "nbformat": 4,
 "nbformat_minor": 5
}
