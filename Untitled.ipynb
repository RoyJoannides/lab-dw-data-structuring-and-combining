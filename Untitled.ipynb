{
 "cells": [
  {
   "cell_type": "code",
   "execution_count": null,
   "id": "72fe3ed3",
   "metadata": {},
   "outputs": [],
   "source": [
    "# function for data cleaning from exercise 3\n",
    "import pandas as pd\n",
    "\n",
    "def clean_dataset(df):\n",
    "    # Convert column names to lowercase and replace spaces with underscores\n",
    "    df.columns = df.columns.str.lower().str.replace(' ', '_')\n",
    "    # Rename the second column to 'state'\n",
    "    df.rename(columns={df.columns[1]: 'state'}, inplace=True)\n",
    "    # Convert gender values to uppercase and standardize\n",
    "    df.gender = df['gender'].str.lower().replace(['f', 'femal', 'female'], 'F').replace(['m', 'male'], 'M')\n",
    "    df.education = df['education'].replace('Bachelors', 'Bachelor')\n",
    "\n",
    "    # Handle customer_lifetime_value column\n",
    "    if 'customer_lifetime_value' in df.columns and df['customer_lifetime_value'].dtype == 'O':\n",
    "        df['customer_lifetime_value'] = pd.to_numeric(df['customer_lifetime_value'].str.replace('%', ''), errors='coerce')\n",
    "\n",
    "    vehicle_mapping = {'Sports Car': 'Luxury', 'Luxury SUV': 'Luxury', 'Luxury Car': 'Luxury'}\n",
    "    df.vehicle_class = df['vehicle_class'].replace(vehicle_mapping) \n",
    "    df.number_of_open_complaints = pd.to_numeric(df['number_of_open_complaints'], errors='coerce').astype('Int64')\n",
    "    \n",
    "    # Fill missing values in numeric columns with the mean\n",
    "    numeric_columns = ['customer_lifetime_value', 'income', 'monthly_premium_auto', 'number_of_open_complaints', 'total_claim_amount']\n",
    "    for col in numeric_columns:\n",
    "        if col == 'number_of_open_complaints':\n",
    "            mean_value = round(df[col].mean())\n",
    "            df[col] = df[col].fillna(mean_value)\n",
    "        else:\n",
    "            df[col] = df[col].fillna(round(df[col].mean()))\n",
    "    \n",
    "    # Fill missing values in categorical columns with the mode\n",
    "    categorical_columns = ['customer', 'state', 'gender', 'education', 'policy_type', 'vehicle_class']\n",
    "    for col in categorical_columns:\n",
    "        df[col] = df[col].fillna(df[col].mode()[0])\n",
    "    \n",
    "    # Display duplicates after handling\n",
    "    duplicates_after_handling = df.duplicated()\n",
    "    print(\"\\nDuplicates after handling:\")\n",
    "    print(duplicates_after_handling) \n",
    "    \n",
    "    return df\n",
    "\n",
    "# Assuming you have a DataFrame named 'df'\n",
    "your_data = df.copy()  # Make a copy if you want to keep the original DataFrame unchanged\n",
    "\n",
    "# Call the cleaning function\n",
    "cleaned_data = clean_dataset(your_data)\n",
    "\n",
    "# Display the first few rows of the cleaned data\n",
    "cleaned_data.head()"
   ]
  }
 ],
 "metadata": {
  "kernelspec": {
   "display_name": "Python 3 (ipykernel)",
   "language": "python",
   "name": "python3"
  },
  "language_info": {
   "codemirror_mode": {
    "name": "ipython",
    "version": 3
   },
   "file_extension": ".py",
   "mimetype": "text/x-python",
   "name": "python",
   "nbconvert_exporter": "python",
   "pygments_lexer": "ipython3",
   "version": "3.11.5"
  }
 },
 "nbformat": 4,
 "nbformat_minor": 5
}
